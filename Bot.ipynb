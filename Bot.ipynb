{
 "cells": [
  {
   "cell_type": "code",
   "execution_count": 1,
   "metadata": {},
   "outputs": [],
   "source": [
    "from rank_bm25 import BM25Okapi\n",
    "from Sastrawi.Stemmer.StemmerFactory import StemmerFactory"
   ]
  },
  {
   "cell_type": "code",
   "execution_count": 2,
   "metadata": {},
   "outputs": [],
   "source": [
    "data_pertanyaan = [\n",
    "    \"Bagaimana cara mengumpulkan formulir?\",\n",
    "    \"Kok, saya tidak bisa akses situsnya ya?\",\n",
    "    \"Kapan deadline pengumpulan sertifikatnya?\",\n",
    "    \"Saya masih bingung kak\"\n",
    "]"
   ]
  },
  {
   "cell_type": "code",
   "execution_count": 3,
   "metadata": {},
   "outputs": [],
   "source": [
    "data_jawaban = [\n",
    "    \"Formulir dikumpulkan ke dukcapil terdekat ya kak\",\n",
    "    \"Mohon maaf situsnya sekarang sedang perbaikan\",\n",
    "    \"Minggu depan kak\",\n",
    "    \"Silahkan hubungi admin kak.\"\n",
    "]"
   ]
  },
  {
   "cell_type": "code",
   "execution_count": 6,
   "metadata": {},
   "outputs": [],
   "source": [
    "#Case Folding\n",
    "def case_fold(list_kalimat):\n",
    "    list_kalimat = [kalimat.casefold() for kalimat in list_kalimat]\n",
    "    return list_kalimat\n",
    "\n",
    "#Punctuation Removal\n",
    "def punct_removal(list_kalimat):\n",
    "    punc = '''!()-[]{};:'\"\\,<>./?@#$%^&*_~'''\n",
    "    list_kalimat = [kalimat.translate(str.maketrans('', '', punc)) for kalimat in list_kalimat]    \n",
    "    return list_kalimat\n",
    "\n",
    "#Stemming\n",
    "def stemming_idn(list_kalimat):\n",
    "    factory = StemmerFactory()\n",
    "    stemmer = factory.create_stemmer()\n",
    "    list_kalimat = [stemmer.stem(kalimat) for kalimat in list_kalimat]\n",
    "    return list_kalimat"
   ]
  },
  {
   "cell_type": "code",
   "execution_count": 7,
   "metadata": {},
   "outputs": [
    {
     "name": "stdout",
     "output_type": "stream",
     "text": [
      "['bagaimana cara kumpul formulir', 'kok saya tidak bisa akses situs ya', 'kapan deadline kumpul sertifikat', 'saya masih bingung kak']\n"
     ]
    }
   ],
   "source": [
    "data_pertanyaan = case_fold(data_pertanyaan)\n",
    "data_pertanyaan = punct_removal(data_pertanyaan)\n",
    "data_pertanyaan = stemming_idn(data_pertanyaan)\n",
    "print(data_pertanyaan)"
   ]
  },
  {
   "cell_type": "code",
   "execution_count": 8,
   "metadata": {},
   "outputs": [],
   "source": [
    "tokenized_corpus = [doc.split(\" \") for doc in data_pertanyaan]\n",
    "bm25 = BM25Okapi(tokenized_corpus)"
   ]
  },
  {
   "cell_type": "code",
   "execution_count": 9,
   "metadata": {},
   "outputs": [],
   "source": [
    "pertanyaan_masyarakat = \"Kak, untuk pengumpulan sertifikat itu terakhirnya kapan ya?\"\n",
    "\n",
    "pertanyaan_masyarakat = [pertanyaan_masyarakat]\n",
    "pertanyaan_masyarakat = case_fold(pertanyaan_masyarakat)\n",
    "pertanyaan_masyarakat = punct_removal(pertanyaan_masyarakat)\n",
    "pertanyaan_masyarakat = stemming_idn(pertanyaan_masyarakat)\n",
    "pertanyaan_masyarakat = str(pertanyaan_masyarakat)\n",
    "\n",
    "tokenized_query = pertanyaan_masyarakat.split(\" \")"
   ]
  },
  {
   "cell_type": "code",
   "execution_count": 10,
   "metadata": {},
   "outputs": [
    {
     "name": "stdout",
     "output_type": "stream",
     "text": [
      "[0.         0.         1.82421069 0.        ]\n"
     ]
    }
   ],
   "source": [
    "doc_scores = bm25.get_scores(tokenized_query)\n",
    "print(doc_scores)"
   ]
  },
  {
   "cell_type": "code",
   "execution_count": 11,
   "metadata": {},
   "outputs": [
    {
     "data": {
      "text/plain": [
       "['Minggu depan kak']"
      ]
     },
     "execution_count": 11,
     "metadata": {},
     "output_type": "execute_result"
    }
   ],
   "source": [
    "bm25.get_top_n(tokenized_query, data_jawaban, n=1)"
   ]
  },
  {
   "cell_type": "code",
   "execution_count": null,
   "metadata": {},
   "outputs": [
    {
     "name": "stdout",
     "output_type": "stream",
     "text": [
      "Pertanyaan Anda : formulirnya kapan ya dikumpul?\n",
      "[0.         0.6984234  0.91210535 0.        ]\n",
      "Jawaban Computer : ['Minggu depan kak']\n",
      "Pertanyaan Anda : dedline pengumpulan formulirnya kapan ya kak?\n",
      "[0.91210535 0.6984234  0.91210535 0.        ]\n",
      "Jawaban Computer : ['Minggu depan kak']\n",
      "Pertanyaan Anda : bla bla bla\n",
      "[0. 0. 0. 0.]\n",
      "Jawaban Computer : ['Silahkan hubungi admin kak.']\n",
      "Pertanyaan Anda : chat nggggggak nyambung\n",
      "[0. 0. 0. 0.]\n",
      "Jawaban Computer : ['Silahkan hubungi admin kak.']\n",
      "Pertanyaan Anda : web selalu memuat ulang, gak bisa dibuka\n",
      "[0.        0.6984234 0.        0.       ]\n",
      "Jawaban Computer : ['Mohon maaf situsnya sekarang sedang perbaikan']\n"
     ]
    }
   ],
   "source": [
    "#Percakapan\n",
    "while True:\n",
    "    pertanyaan_masyarakat = str(input(\"Pertanyaan Anda : \"))\n",
    "    pertanyaan_masyarakat = [pertanyaan_masyarakat]\n",
    "    pertanyaan_masyarakat = case_fold(pertanyaan_masyarakat)\n",
    "    pertanyaan_masyarakat = punct_removal(pertanyaan_masyarakat)\n",
    "    pertanyaan_masyarakat = stemming_idn(pertanyaan_masyarakat)\n",
    "    pertanyaan_masyarakat = str(pertanyaan_masyarakat)\n",
    "    \n",
    "    tokenized_query = pertanyaan_masyarakat.split(\" \")\n",
    "    \n",
    "    jawaban = bm25.get_top_n(tokenized_query, data_jawaban, n=1)\n",
    "    \n",
    "    doc_scores = bm25.get_scores(tokenized_query)\n",
    "    print(doc_scores)\n",
    "    \n",
    "    print(\"Jawaban Computer : \"+str(jawaban))"
   ]
  },
  {
   "cell_type": "code",
   "execution_count": null,
   "metadata": {},
   "outputs": [],
   "source": []
  }
 ],
 "metadata": {
  "kernelspec": {
   "display_name": "Python 3",
   "language": "python",
   "name": "python3"
  },
  "language_info": {
   "codemirror_mode": {
    "name": "ipython",
    "version": 3
   },
   "file_extension": ".py",
   "mimetype": "text/x-python",
   "name": "python",
   "nbconvert_exporter": "python",
   "pygments_lexer": "ipython3",
   "version": "3.7.6"
  }
 },
 "nbformat": 4,
 "nbformat_minor": 4
}
